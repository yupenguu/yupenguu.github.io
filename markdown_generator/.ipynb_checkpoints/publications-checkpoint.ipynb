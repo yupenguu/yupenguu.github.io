{
 "cells": [
  {
   "cell_type": "markdown",
   "metadata": {},
   "source": [
    "# Publications markdown generator for academicpages\n",
    "\n",
    "Takes a TSV of publications with metadata and converts them for use with [academicpages.github.io](academicpages.github.io). This is an interactive Jupyter notebook ([see more info here](http://jupyter-notebook-beginner-guide.readthedocs.io/en/latest/what_is_jupyter.html)). The core python code is also in `publications.py`. Run either from the `markdown_generator` folder after replacing `publications.tsv` with one containing your data.\n",
    "\n",
    "TODO: Make this work with BibTex and other databases of citations, rather than Stuart's non-standard TSV format and citation style.\n"
   ]
  },
  {
   "cell_type": "markdown",
   "metadata": {},
   "source": [
    "## Data format\n",
    "\n",
    "The TSV needs to have the following columns: pub_date, title, venue, excerpt, citation, site_url, and paper_url, with a header at the top. \n",
    "\n",
    "- `excerpt` and `paper_url` can be blank, but the others must have values. \n",
    "- `pub_date` must be formatted as YYYY-MM-DD.\n",
    "- `url_slug` will be the descriptive part of the .md file and the permalink URL for the page about the paper. The .md file will be `YYYY-MM-DD-[url_slug].md` and the permalink will be `https://[yourdomain]/publications/YYYY-MM-DD-[url_slug]`\n",
    "\n",
    "This is how the raw file looks (it doesn't look pretty, use a spreadsheet or other program to edit and create)."
   ]
  },
  {
   "cell_type": "code",
   "execution_count": 1,
   "metadata": {},
   "outputs": [
    {
     "name": "stdout",
     "output_type": "stream",
     "text": [
      "pub_date\ttitle\tvenue\texcerpt\tcitation\turl_slug\tpaper_url\n",
      "2018-10-01\tPay Me Now (and Later): Pension Benefit Manipulation before Plan Freezes and Executive Retirement\tJournal of Financial Economics\tLarge US firms modify top executivesâ€™ compensation before pension-related events. Top executives receive one-time increases in pensionable earnings through higher annual bonuses one year before a plan freeze and one year before retirement. Firms also boost pension payouts by lowering plan discount rates when top executives are eligible to retire with lump-sum benefit distributions. Increases in executive pensions do not appear to be an attempt to improve managerial effort or retention and are more likely to occur at firms with poor corporate governance. These findings suggest that in some circumstances managers are able to extract rents through their pension plans.\tStefanescu, Irina, Yupeng Wang, Kangzhen Xie, and Jun Yang. \"Pay me now (and later): Pension benefit manipulation before plan freezes and executive retirement.\" Journal of Financial Economics 127, no. 1 (2018): 152-173.\tpension-2018\thttp://yupengwang.github.io/files/pension_2018.pdf\n",
      "2020-10-01\tTo Buy or to Lease: The Advantages and Costs of Leasing versus Buying Scientific Instruments for Academic Core Facilities\tEMBO Reports\tThe ever-increasing speed of technological development has made leasing, in its various forms, an attractivestrategy for procuring a wide range of products. Most research institutions still purchase high-tech scientific equipment. Here, we examine the advantages of leasing scientific research instruments and provide an example of a successful implementation of a lease-based procurement strategy.\tWang, Yupeng, and Douglas S. Richardson. \"To buy or to lease: The advantages and costs of leasing versus buying scientific instruments for academic core facilities.\" EMBO reports 21, no. 5 (2020): e49971.\tlease-2020\thttp://yupengwang.github.io/files/lease_2020.pdf\n"
     ]
    }
   ],
   "source": [
    "!cat publications.tsv"
   ]
  },
  {
   "cell_type": "markdown",
   "metadata": {},
   "source": [
    "## Import pandas\n",
    "\n",
    "We are using the very handy pandas library for dataframes."
   ]
  },
  {
   "cell_type": "code",
   "execution_count": 2,
   "metadata": {},
   "outputs": [],
   "source": [
    "import pandas as pd"
   ]
  },
  {
   "cell_type": "markdown",
   "metadata": {},
   "source": [
    "## Import TSV\n",
    "\n",
    "Pandas makes this easy with the read_csv function. We are using a TSV, so we specify the separator as a tab, or `\\t`.\n",
    "\n",
    "I found it important to put this data in a tab-separated values format, because there are a lot of commas in this kind of data and comma-separated values can get messed up. However, you can modify the import statement, as pandas also has read_excel(), read_json(), and others."
   ]
  },
  {
   "cell_type": "code",
   "execution_count": 3,
   "metadata": {},
   "outputs": [
    {
     "data": {
      "text/html": [
       "<div>\n",
       "<style scoped>\n",
       "    .dataframe tbody tr th:only-of-type {\n",
       "        vertical-align: middle;\n",
       "    }\n",
       "\n",
       "    .dataframe tbody tr th {\n",
       "        vertical-align: top;\n",
       "    }\n",
       "\n",
       "    .dataframe thead th {\n",
       "        text-align: right;\n",
       "    }\n",
       "</style>\n",
       "<table border=\"1\" class=\"dataframe\">\n",
       "  <thead>\n",
       "    <tr style=\"text-align: right;\">\n",
       "      <th></th>\n",
       "      <th>pub_date</th>\n",
       "      <th>title</th>\n",
       "      <th>venue</th>\n",
       "      <th>excerpt</th>\n",
       "      <th>citation</th>\n",
       "      <th>url_slug</th>\n",
       "      <th>paper_url</th>\n",
       "    </tr>\n",
       "  </thead>\n",
       "  <tbody>\n",
       "    <tr>\n",
       "      <th>0</th>\n",
       "      <td>2018-10-01</td>\n",
       "      <td>Pay Me Now (and Later): Pension Benefit Manipu...</td>\n",
       "      <td>Journal of Financial Economics</td>\n",
       "      <td>Large US firms modify top executives’ compensa...</td>\n",
       "      <td>Stefanescu, Irina, Yupeng Wang, Kangzhen Xie, ...</td>\n",
       "      <td>pension-2018</td>\n",
       "      <td>http://yupengwang.github.io/files/pension_2018...</td>\n",
       "    </tr>\n",
       "    <tr>\n",
       "      <th>1</th>\n",
       "      <td>2020-10-01</td>\n",
       "      <td>To Buy or to Lease: The Advantages and Costs o...</td>\n",
       "      <td>EMBO Reports</td>\n",
       "      <td>The ever-increasing speed of technological dev...</td>\n",
       "      <td>Wang, Yupeng, and Douglas S. Richardson. \"To b...</td>\n",
       "      <td>lease-2020</td>\n",
       "      <td>http://yupengwang.github.io/files/lease_2020.pdf</td>\n",
       "    </tr>\n",
       "  </tbody>\n",
       "</table>\n",
       "</div>"
      ],
      "text/plain": [
       "     pub_date                                              title  \\\n",
       "0  2018-10-01  Pay Me Now (and Later): Pension Benefit Manipu...   \n",
       "1  2020-10-01  To Buy or to Lease: The Advantages and Costs o...   \n",
       "\n",
       "                            venue  \\\n",
       "0  Journal of Financial Economics   \n",
       "1                    EMBO Reports   \n",
       "\n",
       "                                             excerpt  \\\n",
       "0  Large US firms modify top executives’ compensa...   \n",
       "1  The ever-increasing speed of technological dev...   \n",
       "\n",
       "                                            citation      url_slug  \\\n",
       "0  Stefanescu, Irina, Yupeng Wang, Kangzhen Xie, ...  pension-2018   \n",
       "1  Wang, Yupeng, and Douglas S. Richardson. \"To b...    lease-2020   \n",
       "\n",
       "                                           paper_url  \n",
       "0  http://yupengwang.github.io/files/pension_2018...  \n",
       "1   http://yupengwang.github.io/files/lease_2020.pdf  "
      ]
     },
     "execution_count": 3,
     "metadata": {},
     "output_type": "execute_result"
    }
   ],
   "source": [
    "publications = pd.read_csv(\"publications.tsv\", sep=\"\\t\", header=0)\n",
    "publications\n"
   ]
  },
  {
   "cell_type": "markdown",
   "metadata": {},
   "source": [
    "## Escape special characters\n",
    "\n",
    "YAML is very picky about how it takes a valid string, so we are replacing single and double quotes (and ampersands) with their HTML encoded equivilents. This makes them look not so readable in raw format, but they are parsed and rendered nicely."
   ]
  },
  {
   "cell_type": "code",
   "execution_count": 4,
   "metadata": {},
   "outputs": [],
   "source": [
    "html_escape_table = {\n",
    "    \"&\": \"&amp;\",\n",
    "    '\"': \"&quot;\",\n",
    "    \"'\": \"&apos;\"\n",
    "    }\n",
    "\n",
    "def html_escape(text):\n",
    "    \"\"\"Produce entities within text.\"\"\"\n",
    "    return \"\".join(html_escape_table.get(c,c) for c in text)"
   ]
  },
  {
   "cell_type": "markdown",
   "metadata": {},
   "source": [
    "## Creating the markdown files\n",
    "\n",
    "This is where the heavy lifting is done. This loops through all the rows in the TSV dataframe, then starts to concatentate a big string (```md```) that contains the markdown for each type. It does the YAML metadata first, then does the description for the individual page."
   ]
  },
  {
   "cell_type": "code",
   "execution_count": 5,
   "metadata": {},
   "outputs": [],
   "source": [
    "import os\n",
    "for row, item in publications.iterrows():\n",
    "    \n",
    "    md_filename = str(item.pub_date) + \"-\" + item.url_slug + \".md\"\n",
    "    html_filename = str(item.pub_date) + \"-\" + item.url_slug\n",
    "    year = item.pub_date[:4]\n",
    "    \n",
    "    ## YAML variables\n",
    "    \n",
    "    md = \"---\\ntitle: \\\"\"   + item.title + '\"\\n'\n",
    "    \n",
    "    md += \"\"\"collection: publications\"\"\"\n",
    "    \n",
    "    md += \"\"\"\\npermalink: /publication/\"\"\" + html_filename\n",
    "    \n",
    "    if len(str(item.excerpt)) > 5:\n",
    "        md += \"\\nexcerpt: '\" + html_escape(item.excerpt) + \"'\"\n",
    "    \n",
    "    md += \"\\ndate: \" + str(item.pub_date) \n",
    "    \n",
    "    md += \"\\nvenue: '\" + html_escape(item.venue) + \"'\"\n",
    "    \n",
    "    if len(str(item.paper_url)) > 5:\n",
    "        md += \"\\npaperurl: '\" + item.paper_url + \"'\"\n",
    "    \n",
    "    md += \"\\ncitation: '\" + html_escape(item.citation) + \"'\"\n",
    "    \n",
    "    md += \"\\n---\"\n",
    "    \n",
    "    ## Markdown description for individual page\n",
    "        \n",
    "    if len(str(item.excerpt)) > 5:\n",
    "        md += \"\\n\" + html_escape(item.excerpt) + \"\\n\"\n",
    "    \n",
    "    if len(str(item.paper_url)) > 5:\n",
    "        md += \"\\n[Download paper here](\" + item.paper_url + \")\\n\" \n",
    "        \n",
    "    md += \"\\nRecommended citation: \" + item.citation\n",
    "    \n",
    "    md_filename = os.path.basename(md_filename)\n",
    "       \n",
    "    with open(\"../_publications/\" + md_filename, 'w') as f:\n",
    "        f.write(md)"
   ]
  },
  {
   "cell_type": "markdown",
   "metadata": {},
   "source": [
    "These files are in the publications directory, one directory below where we're working from."
   ]
  },
  {
   "cell_type": "code",
   "execution_count": 6,
   "metadata": {},
   "outputs": [
    {
     "name": "stdout",
     "output_type": "stream",
     "text": [
      "2009-10-01-paper-title-number-1.md\n",
      "2010-10-01-paper-title-number-2.md\n",
      "2015-10-01-paper-title-number-3.md\n",
      "2018-10-01-pension-2018.md\n",
      "2020-10-01-lease-2020.md\n"
     ]
    }
   ],
   "source": [
    "!ls ../_publications/"
   ]
  },
  {
   "cell_type": "code",
   "execution_count": 7,
   "metadata": {},
   "outputs": [
    {
     "name": "stdout",
     "output_type": "stream",
     "text": [
      "---\n",
      "title: \"Pay Me Now (and Later): Pension Benefit Manipulation before Plan Freezes and Executive Retirement\"\n",
      "collection: publications\n",
      "permalink: /publication/2018-10-01-pension-2018\n",
      "excerpt: 'Large US firms modify top executives’ compensation before pension-related events. Top executives receive one-time increases in pensionable earnings through higher annual bonuses one year before a plan freeze and one year before retirement. Firms also boost pension payouts by lowering plan discount rates when top executives are eligible to retire with lump-sum benefit distributions. Increases in executive pensions do not appear to be an attempt to improve managerial effort or retention and are more likely to occur at firms with poor corporate governance. These findings suggest that in some circumstances managers are able to extract rents through their pension plans.'\n",
      "date: 2018-10-01\n",
      "venue: 'Journal of Financial Economics'\n",
      "paperurl: 'http://yupengwang.github.io/files/pension_2018.pdf'\n",
      "citation: 'Stefanescu, Irina, Yupeng Wang, Kangzhen Xie, and Jun Yang. &quot;Pay me now (and later): Pension benefit manipulation before plan freezes and executive retirement.&quot; Journal of Financial Economics 127, no. 1 (2018): 152-173.'\n",
      "---\n",
      "Large US firms modify top executives’ compensation before pension-related events. Top executives receive one-time increases in pensionable earnings through higher annual bonuses one year before a plan freeze and one year before retirement. Firms also boost pension payouts by lowering plan discount rates when top executives are eligible to retire with lump-sum benefit distributions. Increases in executive pensions do not appear to be an attempt to improve managerial effort or retention and are more likely to occur at firms with poor corporate governance. These findings suggest that in some circumstances managers are able to extract rents through their pension plans.\n",
      "\n",
      "[Download paper here](http://yupengwang.github.io/files/pension_2018.pdf)\n",
      "\n",
      "Recommended citation: Stefanescu, Irina, Yupeng Wang, Kangzhen Xie, and Jun Yang. \"Pay me now (and later): Pension benefit manipulation before plan freezes and executive retirement.\" Journal of Financial Economics 127, no. 1 (2018): 152-173.\n"
     ]
    }
   ],
   "source": [
    "!cat ../_publications/2018-10-01-pension-2018.md"
   ]
  },
  {
   "cell_type": "code",
   "execution_count": null,
   "metadata": {
    "collapsed": true
   },
   "outputs": [],
   "source": []
  }
 ],
 "metadata": {
  "kernelspec": {
   "display_name": "Python 3",
   "language": "python",
   "name": "python3"
  },
  "language_info": {
   "codemirror_mode": {
    "name": "ipython",
    "version": 3
   },
   "file_extension": ".py",
   "mimetype": "text/x-python",
   "name": "python",
   "nbconvert_exporter": "python",
   "pygments_lexer": "ipython3",
   "version": "3.7.7"
  }
 },
 "nbformat": 4,
 "nbformat_minor": 1
}
